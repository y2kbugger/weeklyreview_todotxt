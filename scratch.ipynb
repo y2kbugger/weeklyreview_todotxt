{
 "cells": [
  {
   "cell_type": "markdown",
   "metadata": {},
   "source": []
  },
  {
   "cell_type": "code",
   "execution_count": null,
   "metadata": {},
   "outputs": [],
   "source": []
  },
  {
   "cell_type": "code",
   "execution_count": null,
   "metadata": {},
   "outputs": [],
   "source": [
    "%reload_ext autoreload\n",
    "%autoreload 2"
   ]
  },
  {
   "cell_type": "code",
   "execution_count": null,
   "metadata": {},
   "outputs": [],
   "source": [
    "from pathlib import Path\n",
    "\n",
    "import pandas as pd\n",
    "\n",
    "from insync.db import ListDB\n",
    "from insync.listregistry import CompletionCommand, ListItem, ListItemProject, ListItemProjectType, ListRegistry\n"
   ]
  },
  {
   "cell_type": "code",
   "execution_count": null,
   "metadata": {},
   "outputs": [],
   "source": [
    "descs = ['eggs', 'milk', 'bread', 'butter']\n",
    "\n",
    "reg = ListRegistry()\n",
    "\n",
    "for desc in descs:\n",
    "    i = ListItem(desc, project=ListItemProject('grocery', ListItemProjectType.checklist))\n",
    "    reg.add(i)\n",
    "\n",
    "milk_item = list(reg.items)[1]\n",
    "cmd = CompletionCommand(milk_item.uuid, True)\n",
    "\n",
    "print(\"\\nList:\\n\",reg, sep='')\n",
    "print(\"Cmd before doing:\\n\\t\", cmd)\n",
    "reg.do(cmd)\n",
    "print(\"Cmd after doing:\\n\\t\", cmd)\n",
    "print(\"\\nList:\\n\",reg, sep='')\n",
    "\n",
    "reg.undo()\n",
    "print(\"\\nList:\\n\",reg, sep='')"
   ]
  },
  {
   "cell_type": "markdown",
   "metadata": {},
   "source": [
    "# Save and restore from the db"
   ]
  },
  {
   "cell_type": "code",
   "execution_count": null,
   "metadata": {},
   "outputs": [],
   "source": [
    "DB_FILE = Path(\"scratch.db\")\n",
    "DB_FILE.unlink(missing_ok=True)\n",
    "db = ListDB(DB_FILE)\n",
    "db.ensure_tables_created()\n",
    "db.patch(reg)"
   ]
  },
  {
   "cell_type": "code",
   "execution_count": null,
   "metadata": {},
   "outputs": [],
   "source": [
    "reg2 = db.load()\n",
    "\n",
    "reg.add(ListItem(\"cheese\", project=ListItemProject('grocery', ListItemProjectType.checklist)))\n",
    "print(\"\\nOriginal:\\n\",reg, sep='')\n",
    "print(\"\\nRestored:\\n\",reg2, sep='')"
   ]
  },
  {
   "cell_type": "code",
   "execution_count": null,
   "metadata": {},
   "outputs": [],
   "source": []
  },
  {
   "cell_type": "code",
   "execution_count": null,
   "metadata": {},
   "outputs": [],
   "source": [
    "import dataclasses\n",
    "\n",
    "\n",
    "@dataclasses.dataclass(order=True, frozen=True)\n",
    "class SortKey:\n",
    "    key: int\n",
    "    generation: int\n",
    "\n",
    "@dataclasses.dataclass\n",
    "class OrderableListItem:\n",
    "    sort_key: SortKey\n",
    "    value: int\n",
    "\n",
    "class OrderableList:\n",
    "    \"\"\"test example of a list that can be ordered\n",
    "    goint to benchmark the how fast the key lenth grows with the number of\n",
    "    insertions and reorders\n",
    "    \"\"\"\n",
    "    def __init__(self, MIN: int, MAX: int, GAP: int):\n",
    "        self.items: list[OrderableListItem] = []\n",
    "\n",
    "        self.MIN: int = MIN\n",
    "        self.MAX: int = MAX\n",
    "        self.GAP: int = GAP # span of SortKey\n",
    "\n",
    "        self.historical_sort_keys: list[SortKey] = []\n",
    "\n",
    "\n",
    "    @property\n",
    "    def sorted_items(self) -> list[OrderableListItem]:\n",
    "        return sorted(self.items, key=lambda x: x.sort_key)\n",
    "\n",
    "    def get_key(self, after: SortKey, before: SortKey) -> SortKey:\n",
    "        \"\"\"Create sort key for a new item that should be inserted between\"\"\"\n",
    "\n",
    "        assert after != before, f\"You can never find a gap between a key and itself: {after}.\"\n",
    "        assert after.generation == before.generation, f\"Can't compare keys from different generations: {after} and {before}\"\n",
    "\n",
    "        if before.key - after.key == 1:\n",
    "            print(f\"No gap between {after} and {before}\")\n",
    "            after, before = self.rebalance(after, before)\n",
    "\n",
    "        assert after.generation == before.generation, f\"Can't compare keys from different generations: {after} and {before}\"\n",
    "\n",
    "        key = after.key + (before.key - after.key) // 2\n",
    "        return SortKey(key, after.generation)\n",
    "\n",
    "    def append(self, v: int) -> None:\n",
    "        \"\"\"Append an item to the end of the list\"\"\"\n",
    "        after = SortKey(self.MIN, 0) if len(self.items) == 0 else self.items[-1].sort_key\n",
    "        key = self.get_key(after, SortKey(self.MAX, after.generation))\n",
    "        oli = OrderableListItem(key, v)\n",
    "        print(oli)\n",
    "        assert key not in [i.sort_key for i in self.items], f\"No space for {oli} in {self.items}\"\n",
    "        self.items.append(oli)\n",
    "\n",
    "    # def insert(self, v: int, after: OrderableListItem, before: OrderableListItem) -> None:\n",
    "    #     \"\"\"Insert an item between two existing items\"\"\"\n",
    "    #     key = self.get_key(after.sort_key, before.sort_key)\n",
    "    #     self.items.append(OrderableListItem(key, v))\n",
    "\n",
    "    def rebalance(self, after: SortKey, before: SortKey) -> tuple[SortKey, SortKey]:\n",
    "        \"\"\"Rebalance the sort keys\n",
    "        Evenly distribute the sort keys starting from 0, with a gap of self.GAP\n",
    "\n",
    "        Returns the new mapping for after and before\n",
    "        \"\"\"\n",
    "\n",
    "        assert after.generation == before.generation, f\"Can't compare keys from different generations: {after} and {before}\"\n",
    "        generation = after.generation + 1\n",
    "\n",
    "        new_after, new_before = SortKey(after.key, generation), SortKey(before.key, generation)\n",
    "\n",
    "        for i, oli in enumerate(self.sorted_items):\n",
    "            new_key = SortKey(i * self.GAP, generation)\n",
    "\n",
    "            print(f\"Rebalancing {oli.sort_key} to {new_key}\")\n",
    "            print(f\"after: {after}, before: {before}\")\n",
    "\n",
    "            if oli.sort_key == after:\n",
    "                new_after = new_key\n",
    "            if oli.sort_key == before:\n",
    "                new_before = new_key\n",
    "\n",
    "            oli.sort_key = new_key\n",
    "\n",
    "        return new_after, new_before\n",
    "\n",
    "    ##################################\n",
    "\n",
    "    def sanity_check_insertion_order(self) -> None:\n",
    "        \"\"\"check that the items are in order after intial insertions\"\"\"\n",
    "        from itertools import pairwise\n",
    "        for a, b in pairwise(self.sorted_items):\n",
    "            if a.value > b.value:\n",
    "                raise ValueError(f\"Items are out of order: {a} > {b}\")\n",
    "\n",
    "    def sanity_check_key_uniqueness(self) -> None:\n",
    "        \"\"\"check that the keys are unique\"\"\"\n",
    "        keys = [i.sort_key for i in self.sorted_items]\n",
    "        if len(keys) != len(set(keys)):\n",
    "            raise ValueError(\"Keys are not unique\")\n",
    "\n"
   ]
  },
  {
   "cell_type": "code",
   "execution_count": null,
   "metadata": {},
   "outputs": [],
   "source": [
    "\n",
    "ol = OrderableList(0, 2**8, GAP=5)\n",
    "for j in range(6):\n",
    "    ol.append(j)\n",
    "\n",
    "df = pd.DataFrame(ol.sorted_items)\n",
    "\n",
    "df"
   ]
  },
  {
   "cell_type": "code",
   "execution_count": null,
   "metadata": {},
   "outputs": [],
   "source": [
    "ol = OrderableList(0, 2**8, GAP=5)\n",
    "for j in range(22):\n",
    "    ol.append(j)\n",
    "\n",
    "ol.sanity_check_insertion_order()\n",
    "\n",
    "df = pd.DataFrame(ol.sorted_items)\n",
    "\n",
    "df"
   ]
  },
  {
   "cell_type": "code",
   "execution_count": null,
   "metadata": {},
   "outputs": [],
   "source": [
    "from insync.listregistry import ListRegistry, ListItem, ListItemProject, ListItemProjectType,NullListItemProject"
   ]
  },
  {
   "cell_type": "code",
   "execution_count": null,
   "metadata": {},
   "outputs": [],
   "source": [
    "nil = NullListItemProject()\n",
    "nil2 = ListItemProject('g', ListItemProjectType.null)\n",
    "\n",
    "nil == nil2"
   ]
  },
  {
   "cell_type": "code",
   "execution_count": null,
   "metadata": {},
   "outputs": [],
   "source": [
    "nil2 == nil"
   ]
  },
  {
   "cell_type": "code",
   "execution_count": null,
   "metadata": {},
   "outputs": [],
   "source": [
    "nil2 != nil"
   ]
  },
  {
   "cell_type": "code",
   "execution_count": null,
   "metadata": {},
   "outputs": [],
   "source": []
  },
  {
   "cell_type": "code",
   "execution_count": null,
   "metadata": {},
   "outputs": [],
   "source": [
    "from dataclasses import dataclass\n",
    "\n",
    "class FlyweightMeta(type):\n",
    "    \"\"\"Metaclass to make a class a flyweight\n",
    "\n",
    "    This is a dead simple implementation of the flyweight pattern.\n",
    "    This makes it so all instances of a class share the same instance if they would be considered equal.\n",
    "\n",
    "\n",
    "    use like this with dataclasses:\n",
    "\n",
    "        @dataclass\n",
    "        class P(metaclass=FlyweightMeta):\n",
    "            name: str\n",
    "\n",
    "            def rename(self, new_name: str) -> None:\n",
    "                self.name = new_name\n",
    "\n",
    "        p1 = P('ggg')\n",
    "        p2 = P('hhh')\n",
    "        p3 = P('ggg')\n",
    "        p1 == p3 # True\n",
    "        p1 is p3 # True\n",
    "        p1.rename('lol')\n",
    "        p1 == p3 # True\n",
    "\n",
    "    \"\"\"\n",
    "    def __init__(self, *args, **kwargs):\n",
    "        super().__init__(*args, **kwargs)\n",
    "        self._instances = []\n",
    "\n",
    "    def __call__(cls, *args, **kwargs):\n",
    "        instance = super().__call__(*args, **kwargs)\n",
    "        if instance not in cls._instances:\n",
    "            cls._instances.append(instance)\n",
    "        else:\n",
    "            # get the existing instance\n",
    "            instance = cls._instances[cls._instances.index(instance)]\n",
    "\n",
    "        return instance\n",
    "\n",
    "@dataclass\n",
    "class P(metaclass=FlyweightMeta):\n",
    "    name: str\n",
    "\n",
    "    def rename(self, new_name: str) -> None:\n",
    "        self.name = new_name\n",
    "\n",
    "@dataclass\n",
    "class G(metaclass=FlyweightMeta):\n",
    "    name: str\n",
    "\n",
    "    def rename(self, new_name: str) -> None:\n",
    "        self.name = new_name\n",
    "\n",
    "p1 = P('ggg')\n",
    "p2 = P('hhh')\n",
    "p3 = P('ggg')\n",
    "ps= [P('ggy'), P('hhh'), P('ggg'), G('kkd'), G('dsd'), G('kkd'), G('dsd'),G('hhh')]\n",
    "\n",
    "assert p1 == p3, \"p1 should be equal to p3, duhhh\"\n",
    "p1.rename('lol')\n",
    "\n",
    "assert p1 == p3, \"p1 should stay equal to p3, because we are trying to make a flyweight\"\n"
   ]
  },
  {
   "cell_type": "code",
   "execution_count": null,
   "metadata": {},
   "outputs": [],
   "source": []
  }
 ],
 "metadata": {
  "kernelspec": {
   "display_name": ".venv",
   "language": "python",
   "name": "python3"
  },
  "language_info": {
   "codemirror_mode": {
    "name": "ipython",
    "version": 3
   },
   "file_extension": ".py",
   "mimetype": "text/x-python",
   "name": "python",
   "nbconvert_exporter": "python",
   "pygments_lexer": "ipython3",
   "version": "3.11.8"
  }
 },
 "nbformat": 4,
 "nbformat_minor": 2
}
