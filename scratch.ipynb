{
 "cells": [
  {
   "cell_type": "code",
   "execution_count": 1,
   "metadata": {},
   "outputs": [],
   "source": [
    "%reload_ext autoreload\n",
    "%autoreload 2"
   ]
  },
  {
   "cell_type": "code",
   "execution_count": 2,
   "metadata": {},
   "outputs": [],
   "source": [
    "from pathlib import Path\n",
    "\n",
    "from uuid6 import UUID\n",
    "\n",
    "from insync.db import ListDB\n",
    "from insync.list import CompletionCommand, Context, ContextType, ListItem, ListRegistry\n"
   ]
  },
  {
   "cell_type": "code",
   "execution_count": 3,
   "metadata": {},
   "outputs": [
    {
     "name": "stdout",
     "output_type": "stream",
     "text": [
      "CompletionCommand(uuid=UUID('018df806-46db-740f-9569-85dc9da77550'), completed_new=True, completed_orig=None)\n",
      "   CompletionCommand(uuid=UUID('018df806-46db-740f-9569-85dc9da77550'), completed_new=True, completed_orig=False)\n",
      "x 2024-02-29 eggs @^grocery\n",
      "2024-02-29 milk @^grocery\n",
      "2024-02-29 bread @^grocery\n",
      "2024-02-29 butter @^grocery\n",
      "\n",
      "CompletionCommand(uuid=UUID('018df806-46db-740f-9569-85dc9da77550'), completed_new=True, completed_orig=False)\n",
      "   CompletionCommand(uuid=UUID('018df806-46db-740f-9569-85dc9da77550'), completed_new=True, completed_orig=False)\n",
      "2024-02-29 eggs @^grocery\n",
      "2024-02-29 milk @^grocery\n",
      "2024-02-29 bread @^grocery\n",
      "2024-02-29 butter @^grocery\n",
      "\n",
      "CompletionCommand(uuid=UUID('018df806-46dd-76f5-b8ab-d1588254988d'), completed_new=True, completed_orig=None)\n",
      "   CompletionCommand(uuid=UUID('018df806-46dd-76f5-b8ab-d1588254988d'), completed_new=True, completed_orig=False)\n",
      "2024-02-29 eggs @^grocery\n",
      "2024-02-29 milk @^grocery\n",
      "x 2024-02-29 bread @^grocery\n",
      "2024-02-29 butter @^grocery\n",
      "\n"
     ]
    }
   ],
   "source": [
    "descs = ['eggs', 'milk', 'bread', 'butter']\n",
    "\n",
    "reg = ListRegistry()\n",
    "\n",
    "for desc in descs:\n",
    "    i = ListItem(desc, context=Context('grocery', ContextType.CHECKLIST))\n",
    "    reg.add(i)\n",
    "\n",
    "\n",
    "ids = list(reg._list.keys())\n",
    "\n",
    "def test_completion(uuid: UUID, completed: bool) -> None:\n",
    "    com = CompletionCommand(uuid, completed)\n",
    "    print(com)\n",
    "    reg.do(com)\n",
    "    print('  ', com)\n",
    "    print(reg)\n",
    "\n",
    "def test_undo(idx:int=-1) -> None:\n",
    "    com = reg._history[idx]\n",
    "    print(com)\n",
    "    reg.undo(com)\n",
    "    print('  ',com)\n",
    "    print(reg)\n",
    "\n",
    "test_completion(ids[0], True)\n",
    "test_undo()\n",
    "\n",
    "db_file = \"lol.db\"\n",
    "Path(db_file).unlink(missing_ok=True)\n",
    "db = ListDB(\"lol.db\")\n",
    "db.patch(reg)\n",
    "test_completion(ids[2], True)"
   ]
  },
  {
   "cell_type": "code",
   "execution_count": 4,
   "metadata": {},
   "outputs": [],
   "source": [
    "db.patch(reg)"
   ]
  },
  {
   "cell_type": "code",
   "execution_count": null,
   "metadata": {},
   "outputs": [],
   "source": []
  },
  {
   "cell_type": "markdown",
   "metadata": {},
   "source": []
  },
  {
   "cell_type": "code",
   "execution_count": 5,
   "metadata": {},
   "outputs": [
    {
     "name": "stdout",
     "output_type": "stream",
     "text": [
      "2024-02-29 eggs @^grocery\n",
      "2024-02-29 milk @^grocery\n",
      "x 2024-02-29 bread @^grocery\n",
      "2024-02-29 butter @^grocery\n",
      "\n",
      "2024-02-29 eggs @^grocery\n",
      "2024-02-29 milk @^grocery\n",
      "x 2024-02-29 bread @^grocery\n",
      "2024-02-29 butter @^grocery\n",
      "\n"
     ]
    }
   ],
   "source": [
    "# read in from the db\n",
    "reg2 = db.load()\n",
    "\n",
    "print(reg)\n",
    "print(reg2)"
   ]
  },
  {
   "cell_type": "code",
   "execution_count": null,
   "metadata": {},
   "outputs": [],
   "source": []
  }
 ],
 "metadata": {
  "kernelspec": {
   "display_name": ".venv",
   "language": "python",
   "name": "python3"
  },
  "language_info": {
   "codemirror_mode": {
    "name": "ipython",
    "version": 3
   },
   "file_extension": ".py",
   "mimetype": "text/x-python",
   "name": "python",
   "nbconvert_exporter": "python",
   "pygments_lexer": "ipython3",
   "version": "3.11.7"
  }
 },
 "nbformat": 4,
 "nbformat_minor": 2
}
