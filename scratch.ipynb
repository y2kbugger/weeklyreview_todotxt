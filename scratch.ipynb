{
 "cells": [
  {
   "cell_type": "code",
   "execution_count": 1,
   "metadata": {},
   "outputs": [],
   "source": [
    "%reload_ext autoreload\n",
    "%autoreload 2"
   ]
  },
  {
   "cell_type": "code",
   "execution_count": 2,
   "metadata": {},
   "outputs": [],
   "source": [
    "from insync.list import ListItem, Context, ContextType, Priority, ListRegistry, CompletionCommand\n",
    "from insync.db import ListDB"
   ]
  },
  {
   "cell_type": "code",
   "execution_count": null,
   "metadata": {},
   "outputs": [],
   "source": []
  },
  {
   "cell_type": "code",
   "execution_count": 3,
   "metadata": {},
   "outputs": [
    {
     "name": "stdout",
     "output_type": "stream",
     "text": [
      "CompletionCommand(id=UUID('018df315-8087-78ee-969b-73908767bbb7'), completed_new=True, completed_orig=None)\n",
      "   CompletionCommand(id=UUID('018df315-8087-78ee-969b-73908767bbb7'), completed_new=True, completed_orig=False)\n",
      "x 2024-02-28 eggs @^grocery\n",
      "2024-02-28 milk @^grocery\n",
      "2024-02-28 bread @^grocery\n",
      "2024-02-28 butter @^grocery\n",
      "\n",
      "CompletionCommand(id=UUID('018df315-8088-75bd-a412-c8ffcb3c32bc'), completed_new=True, completed_orig=None)\n",
      "   CompletionCommand(id=UUID('018df315-8088-75bd-a412-c8ffcb3c32bc'), completed_new=True, completed_orig=False)\n",
      "x 2024-02-28 eggs @^grocery\n",
      "x 2024-02-28 milk @^grocery\n",
      "2024-02-28 bread @^grocery\n",
      "2024-02-28 butter @^grocery\n",
      "\n",
      "CompletionCommand(id=UUID('018df315-8088-75bd-a412-c8ffcb3c32bc'), completed_new=True, completed_orig=False)\n",
      "   CompletionCommand(id=UUID('018df315-8088-75bd-a412-c8ffcb3c32bc'), completed_new=True, completed_orig=False)\n",
      "x 2024-02-28 eggs @^grocery\n",
      "2024-02-28 milk @^grocery\n",
      "2024-02-28 bread @^grocery\n",
      "2024-02-28 butter @^grocery\n",
      "\n"
     ]
    }
   ],
   "source": [
    "descs = ['eggs', 'milk', 'bread', 'butter']\n",
    "\n",
    "reg = ListRegistry()\n",
    "\n",
    "for desc in descs:\n",
    "    i = ListItem(desc, context=Context('grocery', ContextType.CHECKLIST))\n",
    "    reg.add(i)\n",
    "\n",
    "\n",
    "ids = list(reg._list.keys())\n",
    "\n",
    "def test_completion(id, completed):\n",
    "    com = CompletionCommand(id, completed)\n",
    "    print(com)\n",
    "    reg.do(com)\n",
    "    print('  ',com)\n",
    "    print(reg)\n",
    "\n",
    "def test_undo(idx=-1):\n",
    "    com = reg._history[idx]\n",
    "    print(com)\n",
    "    reg.undo(com)\n",
    "    print('  ',com)\n",
    "    print(reg)\n",
    "\n",
    "test_completion(ids[0], True)\n",
    "test_completion(ids[1], True)\n",
    "# test_completion(ids[0], False)\n",
    "test_undo()\n",
    "\n",
    "db = ListDB(\"lol.db\")\n",
    "db.patch(reg)"
   ]
  },
  {
   "cell_type": "markdown",
   "metadata": {},
   "source": []
  },
  {
   "cell_type": "code",
   "execution_count": null,
   "metadata": {},
   "outputs": [],
   "source": []
  }
 ],
 "metadata": {
  "kernelspec": {
   "display_name": ".venv",
   "language": "python",
   "name": "python3"
  },
  "language_info": {
   "codemirror_mode": {
    "name": "ipython",
    "version": 3
   },
   "file_extension": ".py",
   "mimetype": "text/x-python",
   "name": "python",
   "nbconvert_exporter": "python",
   "pygments_lexer": "ipython3",
   "version": "3.11.7"
  }
 },
 "nbformat": 4,
 "nbformat_minor": 2
}
