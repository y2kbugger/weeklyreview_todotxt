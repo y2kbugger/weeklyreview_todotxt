{
 "cells": [
  {
   "cell_type": "markdown",
   "metadata": {},
   "source": []
  },
  {
   "cell_type": "code",
   "execution_count": 1,
   "metadata": {},
   "outputs": [],
   "source": [
    "%reload_ext autoreload\n",
    "%autoreload 2"
   ]
  },
  {
   "cell_type": "code",
   "execution_count": 2,
   "metadata": {},
   "outputs": [],
   "source": [
    "from pathlib import Path\n",
    "\n",
    "from insync.db import ListDB\n",
    "from insync.list import CompletionCommand, ListItem, ListItemContext, ListItemContextType, ListRegistry\n"
   ]
  },
  {
   "cell_type": "code",
   "execution_count": 3,
   "metadata": {},
   "outputs": [
    {
     "name": "stdout",
     "output_type": "stream",
     "text": [
      "\n",
      "List:\n",
      "2024-03-01 eggs @^grocery\n",
      "2024-03-01 milk @^grocery\n",
      "2024-03-01 bread @^grocery\n",
      "2024-03-01 butter @^grocery\n",
      "\n",
      "Cmd before doing:\n",
      "\t CompletionCommand(uuid=UUID('018dfd1a-eeb3-77bc-ad45-bebdc49d7585'), completed_new=True, completed_orig=None)\n",
      "Cmd after doing:\n",
      "\t CompletionCommand(uuid=UUID('018dfd1a-eeb3-77bc-ad45-bebdc49d7585'), completed_new=True, completed_orig=False)\n",
      "\n",
      "List:\n",
      "2024-03-01 eggs @^grocery\n",
      "x 2024-03-01 milk @^grocery\n",
      "2024-03-01 bread @^grocery\n",
      "2024-03-01 butter @^grocery\n",
      "\n",
      "\n",
      "List:\n",
      "2024-03-01 eggs @^grocery\n",
      "2024-03-01 milk @^grocery\n",
      "2024-03-01 bread @^grocery\n",
      "2024-03-01 butter @^grocery\n",
      "\n"
     ]
    }
   ],
   "source": [
    "descs = ['eggs', 'milk', 'bread', 'butter']\n",
    "\n",
    "reg = ListRegistry()\n",
    "\n",
    "for desc in descs:\n",
    "    i = ListItem(desc, context=ListItemContext('grocery', ListItemContextType.CHECKLIST))\n",
    "    reg.add(i)\n",
    "\n",
    "milk_item = list(reg.items)[1]\n",
    "cmd = CompletionCommand(milk_item.uuid, True)\n",
    "\n",
    "print(\"\\nList:\\n\",reg, sep='')\n",
    "print(\"Cmd before doing:\\n\\t\", cmd)\n",
    "reg.do(cmd)\n",
    "print(\"Cmd after doing:\\n\\t\", cmd)\n",
    "print(\"\\nList:\\n\",reg, sep='')\n",
    "\n",
    "reg.undo()\n",
    "print(\"\\nList:\\n\",reg, sep='')"
   ]
  },
  {
   "cell_type": "markdown",
   "metadata": {},
   "source": [
    "# Save and restore from the db"
   ]
  },
  {
   "cell_type": "code",
   "execution_count": null,
   "metadata": {},
   "outputs": [],
   "source": [
    "DB_FILE = Path(\"scratch.db\")\n",
    "DB_FILE.unlink(missing_ok=True)\n",
    "db = ListDB(DB_FILE)\n",
    "db.ensure_tables_created()\n",
    "db.patch(reg)"
   ]
  },
  {
   "cell_type": "code",
   "execution_count": null,
   "metadata": {},
   "outputs": [],
   "source": [
    "reg2 = db.load()\n",
    "\n",
    "reg.add(ListItem(\"cheese\", context=ListItemContext('grocery', ListItemContextType.CHECKLIST)))\n",
    "print(\"\\nOriginal:\\n\",reg, sep='')\n",
    "print(\"\\nRestored:\\n\",reg2, sep='')"
   ]
  },
  {
   "cell_type": "code",
   "execution_count": null,
   "metadata": {},
   "outputs": [],
   "source": [
    "import dataclasses\n",
    "\n",
    "@dataclasses.dataclass\n",
    "class OrderableListItem:\n",
    "    sort_key: str\n",
    "    value: int\n",
    "\n",
    "class OrderableList:\n",
    "    \"\"\"test example of a list that can be ordered\n",
    "    goint to benchmark the how fast the key lenth grows with the number of\n",
    "    insertions and reorders\n",
    "    \"\"\"\n",
    "    def __init__(self):\n",
    "        self.items: list[OrderableListItem] = []\n",
    "\n",
    "    def _next_key(self) -> str:\n",
    "        \"\"\"return the next key in the sequence\n",
    "        Keys be like a,b,c,...z,za,zb,zc,...zz,zza,zzb,zzc,...zzz,zzza,zzzb,...\n",
    "        \"\"\"\n",
    "        if not self.items:\n",
    "            return 'a'\n",
    "\n",
    "        last_key = max(self.items, key=lambda x: x.sort_key).sort_key\n",
    "        last_char = last_key[-1]\n",
    "        if last_char == 'z':\n",
    "            return last_key + 'a'\n",
    "        else:\n",
    "            return last_key[:-1] + chr(ord(last_char) + 1)\n",
    "\n",
    "    def append(self, v: int) -> None:\n",
    "        \"\"\"append an item to the end of the list\n",
    "        \"\"\"\n",
    "        self.items.append(OrderableListItem(self._next_key(), v))\n",
    "\n",
    "    def sorted_items(self) -> list[OrderableListItem]:\n",
    "        return sorted(self.items, key=lambda x: x.sort_key)\n",
    "\n",
    "ol = OrderableList()\n",
    "for j in range(1000):\n",
    "    ol.append(j)\n",
    "\n",
    "results = []\n",
    "for  item in ol.items:\n",
    "    results.append(OrderableListResult(item, ol.items[item]))\n",
    "\n",
    "df\n"
   ]
  }
 ],
 "metadata": {
  "kernelspec": {
   "display_name": ".venv",
   "language": "python",
   "name": "python3"
  },
  "language_info": {
   "codemirror_mode": {
    "name": "ipython",
    "version": 3
   },
   "file_extension": ".py",
   "mimetype": "text/x-python",
   "name": "python",
   "nbconvert_exporter": "python",
   "pygments_lexer": "ipython3",
   "version": "3.11.7"
  }
 },
 "nbformat": 4,
 "nbformat_minor": 2
}
