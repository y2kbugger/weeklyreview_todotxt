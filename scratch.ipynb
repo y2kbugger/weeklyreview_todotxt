{
 "cells": [
  {
   "cell_type": "code",
   "execution_count": 1,
   "metadata": {},
   "outputs": [],
   "source": [
    "%reload_ext autoreload\n",
    "%autoreload 2"
   ]
  },
  {
   "cell_type": "code",
   "execution_count": 2,
   "metadata": {},
   "outputs": [],
   "source": [
    "from insync.list import ListItem, Context, ContextType, Priority, ListRegistry, CompletionCommand"
   ]
  },
  {
   "cell_type": "code",
   "execution_count": null,
   "metadata": {},
   "outputs": [],
   "source": []
  },
  {
   "cell_type": "code",
   "execution_count": 4,
   "metadata": {},
   "outputs": [
    {
     "name": "stdout",
     "output_type": "stream",
     "text": [
      "CompletionCommand(id=UUID('018dee05-40dd-7340-971d-2b057178740e'), completed_new=True, completed_orig=None)\n",
      "   CompletionCommand(id=UUID('018dee05-40dd-7340-971d-2b057178740e'), completed_new=True, completed_orig=False)\n",
      "x 2024-02-27 eggs @^grocery\n",
      "2024-02-27 milk @^grocery\n",
      "2024-02-27 bread @^grocery\n",
      "2024-02-27 butter @^grocery\n",
      "\n",
      "CompletionCommand(id=UUID('018dee05-40dd-7340-971d-2b057178740e'), completed_new=True, completed_orig=False)\n",
      "   CompletionCommand(id=UUID('018dee05-40dd-7340-971d-2b057178740e'), completed_new=True, completed_orig=False)\n",
      "2024-02-27 eggs @^grocery\n",
      "2024-02-27 milk @^grocery\n",
      "2024-02-27 bread @^grocery\n",
      "2024-02-27 butter @^grocery\n",
      "\n"
     ]
    },
    {
     "ename": "IndexError",
     "evalue": "list index out of range",
     "output_type": "error",
     "traceback": [
      "\u001b[0;31m---------------------------------------------------------------------------\u001b[0m",
      "\u001b[0;31mIndexError\u001b[0m                                Traceback (most recent call last)",
      "Cell \u001b[0;32mIn[4], line 32\u001b[0m\n\u001b[1;32m     29\u001b[0m \u001b[38;5;66;03m# test_completion(ids[1], True)\u001b[39;00m\n\u001b[1;32m     30\u001b[0m \u001b[38;5;66;03m# test_completion(ids[0], False)\u001b[39;00m\n\u001b[1;32m     31\u001b[0m test_undo()\n\u001b[0;32m---> 32\u001b[0m \u001b[43mtest_undo\u001b[49m\u001b[43m(\u001b[49m\u001b[43m)\u001b[49m\n",
      "Cell \u001b[0;32mIn[4], line 22\u001b[0m, in \u001b[0;36mtest_undo\u001b[0;34m(idx)\u001b[0m\n\u001b[1;32m     21\u001b[0m \u001b[38;5;28;01mdef\u001b[39;00m \u001b[38;5;21mtest_undo\u001b[39m(idx\u001b[38;5;241m=\u001b[39m\u001b[38;5;241m-\u001b[39m\u001b[38;5;241m1\u001b[39m):\n\u001b[0;32m---> 22\u001b[0m     com \u001b[38;5;241m=\u001b[39m \u001b[43mreg\u001b[49m\u001b[38;5;241;43m.\u001b[39;49m\u001b[43m_history\u001b[49m\u001b[43m[\u001b[49m\u001b[43midx\u001b[49m\u001b[43m]\u001b[49m\n\u001b[1;32m     23\u001b[0m     \u001b[38;5;28mprint\u001b[39m(com)\n\u001b[1;32m     24\u001b[0m     reg\u001b[38;5;241m.\u001b[39mundo(com)\n",
      "\u001b[0;31mIndexError\u001b[0m: list index out of range"
     ]
    }
   ],
   "source": [
    "descs = ['eggs', 'milk', 'bread', 'butter']\n",
    "\n",
    "reg = ListRegistry()\n",
    "\n",
    "for desc in descs:\n",
    "    i = ListItem(desc, context=Context('grocery', ContextType.CHECKLIST))\n",
    "    reg.add(i)\n",
    "\n",
    "\n",
    "ids = list(reg._list.keys())\n",
    "\n",
    "def test_completion(id, completed):\n",
    "    com = CompletionCommand(id, completed)\n",
    "    print(com)\n",
    "    reg.do(com)\n",
    "    print('  ',com)\n",
    "    print(reg)\n",
    "\n",
    "def test_undo(idx=-1):\n",
    "    com = reg._history[idx]\n",
    "    print(com)\n",
    "    reg.undo(com)\n",
    "    print('  ',com)\n",
    "    print(reg)\n",
    "\n",
    "test_completion(ids[0], True)\n",
    "# test_completion(ids[1], True)\n",
    "# test_completion(ids[0], False)\n",
    "test_undo()"
   ]
  },
  {
   "cell_type": "markdown",
   "metadata": {},
   "source": []
  },
  {
   "cell_type": "code",
   "execution_count": null,
   "metadata": {},
   "outputs": [],
   "source": []
  }
 ],
 "metadata": {
  "kernelspec": {
   "display_name": ".venv",
   "language": "python",
   "name": "python3"
  },
  "language_info": {
   "codemirror_mode": {
    "name": "ipython",
    "version": 3
   },
   "file_extension": ".py",
   "mimetype": "text/x-python",
   "name": "python",
   "nbconvert_exporter": "python",
   "pygments_lexer": "ipython3",
   "version": "3.11.7"
  }
 },
 "nbformat": 4,
 "nbformat_minor": 2
}
