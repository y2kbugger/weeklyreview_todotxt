{
 "cells": [
  {
   "cell_type": "code",
   "execution_count": null,
   "metadata": {},
   "outputs": [],
   "source": [
    "%reload_ext autoreload\n",
    "%autoreload 2"
   ]
  },
  {
   "cell_type": "code",
   "execution_count": null,
   "metadata": {},
   "outputs": [],
   "source": [
    "from pathlib import Path\n",
    "\n",
    "from uuid6 import UUID\n",
    "\n",
    "from insync.db import ListDB\n",
    "from insync.list import CompletionCommand, Context, ContextType, ListItem, ListRegistry\n"
   ]
  },
  {
   "cell_type": "code",
   "execution_count": null,
   "metadata": {},
   "outputs": [],
   "source": [
    "descs = ['eggs', 'milk', 'bread', 'butter']\n",
    "\n",
    "reg = ListRegistry()\n",
    "\n",
    "for desc in descs:\n",
    "    i = ListItem(desc, context=Context('grocery', ContextType.CHECKLIST))\n",
    "    reg.add(i)\n",
    "\n",
    "\n",
    "ids = [li.uuid for li in reg.items]\n",
    "\n",
    "def test_completion(uuid: UUID, completed: bool) -> None:\n",
    "    com = CompletionCommand(uuid, completed)\n",
    "    print(com)\n",
    "    reg.do(com)\n",
    "    print('  ', com)\n",
    "    print(reg)\n",
    "\n",
    "def test_undo() -> None:\n",
    "    com = next(iter(reg.undo_stack))\n",
    "    print(com)\n",
    "    reg.undo(com)\n",
    "    print('  ',com)\n",
    "    print(reg)\n",
    "\n",
    "test_completion(ids[0], True)\n",
    "test_undo()\n",
    "\n",
    "DB_FILE = Path(\"scratch.db\")\n",
    "DB_FILE.unlink(missing_ok=True)\n",
    "db = ListDB(DB_FILE)\n",
    "db.patch(reg)\n",
    "test_completion(ids[2], True)"
   ]
  },
  {
   "cell_type": "code",
   "execution_count": null,
   "metadata": {},
   "outputs": [],
   "source": [
    "db.patch(reg)"
   ]
  },
  {
   "cell_type": "code",
   "execution_count": null,
   "metadata": {},
   "outputs": [],
   "source": []
  },
  {
   "cell_type": "markdown",
   "metadata": {},
   "source": []
  },
  {
   "cell_type": "code",
   "execution_count": null,
   "metadata": {},
   "outputs": [],
   "source": [
    "# read in from the db\n",
    "reg2 = db.load()\n",
    "\n",
    "print(reg)\n",
    "print(reg2)"
   ]
  },
  {
   "cell_type": "code",
   "execution_count": null,
   "metadata": {},
   "outputs": [],
   "source": []
  }
 ],
 "metadata": {
  "kernelspec": {
   "display_name": ".venv",
   "language": "python",
   "name": "python3"
  },
  "language_info": {
   "codemirror_mode": {
    "name": "ipython",
    "version": 3
   },
   "file_extension": ".py",
   "mimetype": "text/x-python",
   "name": "python",
   "nbconvert_exporter": "python",
   "pygments_lexer": "ipython3",
   "version": "3.11.7"
  }
 },
 "nbformat": 4,
 "nbformat_minor": 2
}
