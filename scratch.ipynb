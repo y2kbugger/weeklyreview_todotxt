{
 "cells": [
  {
   "cell_type": "markdown",
   "metadata": {},
   "source": []
  },
  {
   "cell_type": "code",
   "execution_count": null,
   "metadata": {},
   "outputs": [],
   "source": [
    "%reload_ext autoreload\n",
    "%autoreload 2"
   ]
  },
  {
   "cell_type": "code",
   "execution_count": null,
   "metadata": {},
   "outputs": [],
   "source": [
    "from pathlib import Path\n",
    "\n",
    "from insync.db import ListDB\n",
    "from insync.list import CompletionCommand, Context, ContextType, ListItem, ListRegistry\n"
   ]
  },
  {
   "cell_type": "code",
   "execution_count": null,
   "metadata": {},
   "outputs": [],
   "source": [
    "descs = ['eggs', 'milk', 'bread', 'butter']\n",
    "\n",
    "reg = ListRegistry()\n",
    "\n",
    "for desc in descs:\n",
    "    i = ListItem(desc, context=Context('grocery', ContextType.CHECKLIST))\n",
    "    reg.add(i)\n",
    "\n",
    "milk_item = list(reg.items)[1]\n",
    "cmd = CompletionCommand(milk_item.uuid, True)\n",
    "\n",
    "print(\"\\nList:\\n\",reg, sep='')\n",
    "print(\"Cmd before doing:\\n\\t\", cmd)\n",
    "reg.do(cmd)\n",
    "print(\"Cmd after doing:\\n\\t\", cmd)\n",
    "print(\"\\nList:\\n\",reg, sep='')\n",
    "\n",
    "reg.undo()\n",
    "print(\"\\nList:\\n\",reg, sep='')"
   ]
  },
  {
   "cell_type": "markdown",
   "metadata": {},
   "source": [
    "# Save and restore from the db"
   ]
  },
  {
   "cell_type": "code",
   "execution_count": null,
   "metadata": {},
   "outputs": [],
   "source": [
    "DB_FILE = Path(\"scratch.db\")\n",
    "DB_FILE.unlink(missing_ok=True)\n",
    "db = ListDB(DB_FILE)\n",
    "db.ensure_tables_created()\n",
    "db.patch(reg)"
   ]
  },
  {
   "cell_type": "code",
   "execution_count": null,
   "metadata": {},
   "outputs": [],
   "source": [
    "reg2 = db.load()\n",
    "\n",
    "reg.add(ListItem(\"cheese\", context=Context('grocery', ContextType.CHECKLIST)))\n",
    "print(\"\\nOriginal:\\n\",reg, sep='')\n",
    "print(\"\\nRestored:\\n\",reg2, sep='')"
   ]
  },
  {
   "cell_type": "code",
   "execution_count": null,
   "metadata": {},
   "outputs": [],
   "source": []
  }
 ],
 "metadata": {
  "kernelspec": {
   "display_name": ".venv",
   "language": "python",
   "name": "python3"
  },
  "language_info": {
   "codemirror_mode": {
    "name": "ipython",
    "version": 3
   },
   "file_extension": ".py",
   "mimetype": "text/x-python",
   "name": "python",
   "nbconvert_exporter": "python",
   "pygments_lexer": "ipython3",
   "version": "3.11.7"
  }
 },
 "nbformat": 4,
 "nbformat_minor": 2
}
