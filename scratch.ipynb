{
 "cells": [
  {
   "cell_type": "markdown",
   "metadata": {},
   "source": []
  },
  {
   "cell_type": "code",
   "execution_count": null,
   "metadata": {},
   "outputs": [],
   "source": []
  },
  {
   "cell_type": "code",
   "execution_count": 1,
   "metadata": {},
   "outputs": [],
   "source": [
    "%reload_ext autoreload\n",
    "%autoreload 2"
   ]
  },
  {
   "cell_type": "code",
   "execution_count": 2,
   "metadata": {},
   "outputs": [],
   "source": [
    "from pathlib import Path\n",
    "\n",
    "import pandas as pd\n",
    "\n",
    "from insync.db import ListDB\n",
    "from insync.listregistry import CompletionCommand, ListItem, ListItemProject, ListItemProjectType, ListRegistry\n"
   ]
  },
  {
   "cell_type": "code",
   "execution_count": 3,
   "metadata": {},
   "outputs": [
    {
     "name": "stdout",
     "output_type": "stream",
     "text": [
      "\n",
      "List:\n",
      "2024-03-01 eggs @^grocery\n",
      "2024-03-01 milk @^grocery\n",
      "2024-03-01 bread @^grocery\n",
      "2024-03-01 butter @^grocery\n",
      "\n",
      "Cmd before doing:\n",
      "\t CompletionCommand(uuid=UUID('018dfd1a-eeb3-77bc-ad45-bebdc49d7585'), completed_new=True, completed_orig=None)\n",
      "Cmd after doing:\n",
      "\t CompletionCommand(uuid=UUID('018dfd1a-eeb3-77bc-ad45-bebdc49d7585'), completed_new=True, completed_orig=False)\n",
      "\n",
      "List:\n",
      "2024-03-01 eggs @^grocery\n",
      "x 2024-03-01 milk @^grocery\n",
      "2024-03-01 bread @^grocery\n",
      "2024-03-01 butter @^grocery\n",
      "\n",
      "\n",
      "List:\n",
      "2024-03-01 eggs @^grocery\n",
      "2024-03-01 milk @^grocery\n",
      "2024-03-01 bread @^grocery\n",
      "2024-03-01 butter @^grocery\n",
      "\n"
     ]
    }
   ],
   "source": [
    "descs = ['eggs', 'milk', 'bread', 'butter']\n",
    "\n",
    "reg = ListRegistry()\n",
    "\n",
    "for desc in descs:\n",
    "    i = ListItem(desc, project=ListItemProject('grocery', ListItemProjectType.checklist))\n",
    "    reg.add(i)\n",
    "\n",
    "milk_item = list(reg.items)[1]\n",
    "cmd = CompletionCommand(milk_item.uuid, True)\n",
    "\n",
    "print(\"\\nList:\\n\",reg, sep='')\n",
    "print(\"Cmd before doing:\\n\\t\", cmd)\n",
    "reg.do(cmd)\n",
    "print(\"Cmd after doing:\\n\\t\", cmd)\n",
    "print(\"\\nList:\\n\",reg, sep='')\n",
    "\n",
    "reg.undo()\n",
    "print(\"\\nList:\\n\",reg, sep='')"
   ]
  },
  {
   "cell_type": "markdown",
   "metadata": {},
   "source": [
    "# Save and restore from the db"
   ]
  },
  {
   "cell_type": "code",
   "execution_count": null,
   "metadata": {},
   "outputs": [],
   "source": [
    "DB_FILE = Path(\"scratch.db\")\n",
    "DB_FILE.unlink(missing_ok=True)\n",
    "db = ListDB(DB_FILE)\n",
    "db.ensure_tables_created()\n",
    "db.patch(reg)"
   ]
  },
  {
   "cell_type": "code",
   "execution_count": null,
   "metadata": {},
   "outputs": [],
   "source": [
    "reg2 = db.load()\n",
    "\n",
    "reg.add(ListItem(\"cheese\", project=ListItemProject('grocery', ListItemProjectType.checklist)))\n",
    "print(\"\\nOriginal:\\n\",reg, sep='')\n",
    "print(\"\\nRestored:\\n\",reg2, sep='')"
   ]
  },
  {
   "cell_type": "code",
   "execution_count": null,
   "metadata": {},
   "outputs": [],
   "source": []
  },
  {
   "cell_type": "code",
   "execution_count": 86,
   "metadata": {},
   "outputs": [],
   "source": [
    "import dataclasses\n",
    "\n",
    "\n",
    "@dataclasses.dataclass(order=True, frozen=True)\n",
    "class SortKey:\n",
    "    key: int\n",
    "    generation: int\n",
    "\n",
    "@dataclasses.dataclass\n",
    "class OrderableListItem:\n",
    "    sort_key: SortKey\n",
    "    value: int\n",
    "\n",
    "class OrderableList:\n",
    "    \"\"\"test example of a list that can be ordered\n",
    "    goint to benchmark the how fast the key lenth grows with the number of\n",
    "    insertions and reorders\n",
    "    \"\"\"\n",
    "    def __init__(self, MIN: int, MAX: int, GAP: int):\n",
    "        self.items: list[OrderableListItem] = []\n",
    "\n",
    "        self.MIN: int = MIN\n",
    "        self.MAX: int = MAX\n",
    "        self.GAP: int = GAP # span of SortKey\n",
    "\n",
    "        self.historical_sort_keys: list[SortKey] = []\n",
    "\n",
    "\n",
    "    @property\n",
    "    def sorted_items(self) -> list[OrderableListItem]:\n",
    "        return sorted(self.items, key=lambda x: x.sort_key)\n",
    "\n",
    "    def get_key(self, after: SortKey, before: SortKey) -> SortKey:\n",
    "        \"\"\"Create sort key for a new item that should be inserted between\"\"\"\n",
    "\n",
    "        assert after != before, f\"You can never find a gap between a key and itself: {after}.\"\n",
    "        assert after.generation == before.generation, f\"Can't compare keys from different generations: {after} and {before}\"\n",
    "\n",
    "        if before.key - after.key == 1:\n",
    "            print(f\"No gap between {after} and {before}\")\n",
    "            after, before = self.rebalance(after, before)\n",
    "\n",
    "        assert after.generation == before.generation, f\"Can't compare keys from different generations: {after} and {before}\"\n",
    "\n",
    "        key = after.key + (before.key - after.key) // 2\n",
    "        return SortKey(key, after.generation)\n",
    "\n",
    "    def append(self, v: int) -> None:\n",
    "        \"\"\"Append an item to the end of the list\"\"\"\n",
    "        after = SortKey(self.MIN, 0) if len(self.items) == 0 else self.items[-1].sort_key\n",
    "        key = self.get_key(after, SortKey(self.MAX, after.generation))\n",
    "        oli = OrderableListItem(key, v)\n",
    "        print(oli)\n",
    "        assert key not in [i.sort_key for i in self.items], f\"No space for {oli} in {self.items}\"\n",
    "        self.items.append(oli)\n",
    "\n",
    "    # def insert(self, v: int, after: OrderableListItem, before: OrderableListItem) -> None:\n",
    "    #     \"\"\"Insert an item between two existing items\"\"\"\n",
    "    #     key = self.get_key(after.sort_key, before.sort_key)\n",
    "    #     self.items.append(OrderableListItem(key, v))\n",
    "\n",
    "    def rebalance(self, after: SortKey, before: SortKey) -> tuple[SortKey, SortKey]:\n",
    "        \"\"\"Rebalance the sort keys\n",
    "        Evenly distribute the sort keys starting from 0, with a gap of self.GAP\n",
    "\n",
    "        Returns the new mapping for after and before\n",
    "        \"\"\"\n",
    "\n",
    "        assert after.generation == before.generation, f\"Can't compare keys from different generations: {after} and {before}\"\n",
    "        generation = after.generation + 1\n",
    "\n",
    "        new_after, new_before = SortKey(after.key, generation), SortKey(before.key, generation)\n",
    "\n",
    "        for i, oli in enumerate(self.sorted_items):\n",
    "            new_key = SortKey(i * self.GAP, generation)\n",
    "\n",
    "            print(f\"Rebalancing {oli.sort_key} to {new_key}\")\n",
    "            print(f\"after: {after}, before: {before}\")\n",
    "\n",
    "            if oli.sort_key == after:\n",
    "                new_after = new_key\n",
    "            if oli.sort_key == before:\n",
    "                new_before = new_key\n",
    "\n",
    "            oli.sort_key = new_key\n",
    "\n",
    "        return new_after, new_before\n",
    "\n",
    "    ##################################\n",
    "\n",
    "    def sanity_check_insertion_order(self) -> None:\n",
    "        \"\"\"check that the items are in order after intial insertions\"\"\"\n",
    "        from itertools import pairwise\n",
    "        for a, b in pairwise(self.sorted_items):\n",
    "            if a.value > b.value:\n",
    "                raise ValueError(f\"Items are out of order: {a} > {b}\")\n",
    "\n",
    "    def sanity_check_key_uniqueness(self) -> None:\n",
    "        \"\"\"check that the keys are unique\"\"\"\n",
    "        keys = [i.sort_key for i in self.sorted_items]\n",
    "        if len(keys) != len(set(keys)):\n",
    "            raise ValueError(\"Keys are not unique\")\n",
    "\n"
   ]
  },
  {
   "cell_type": "code",
   "execution_count": 87,
   "metadata": {},
   "outputs": [
    {
     "name": "stdout",
     "output_type": "stream",
     "text": [
      "OrderableListItem(sort_key=SortKey(key=128, generation=0), value=0)\n",
      "OrderableListItem(sort_key=SortKey(key=192, generation=0), value=1)\n",
      "OrderableListItem(sort_key=SortKey(key=224, generation=0), value=2)\n",
      "OrderableListItem(sort_key=SortKey(key=240, generation=0), value=3)\n",
      "OrderableListItem(sort_key=SortKey(key=248, generation=0), value=4)\n",
      "OrderableListItem(sort_key=SortKey(key=252, generation=0), value=5)\n"
     ]
    },
    {
     "data": {
      "text/html": [
       "<div>\n",
       "<style scoped>\n",
       "    .dataframe tbody tr th:only-of-type {\n",
       "        vertical-align: middle;\n",
       "    }\n",
       "\n",
       "    .dataframe tbody tr th {\n",
       "        vertical-align: top;\n",
       "    }\n",
       "\n",
       "    .dataframe thead th {\n",
       "        text-align: right;\n",
       "    }\n",
       "</style>\n",
       "<table border=\"1\" class=\"dataframe\">\n",
       "  <thead>\n",
       "    <tr style=\"text-align: right;\">\n",
       "      <th></th>\n",
       "      <th>sort_key</th>\n",
       "      <th>value</th>\n",
       "    </tr>\n",
       "  </thead>\n",
       "  <tbody>\n",
       "    <tr>\n",
       "      <th>0</th>\n",
       "      <td>{'key': 128, 'generation': 0}</td>\n",
       "      <td>0</td>\n",
       "    </tr>\n",
       "    <tr>\n",
       "      <th>1</th>\n",
       "      <td>{'key': 192, 'generation': 0}</td>\n",
       "      <td>1</td>\n",
       "    </tr>\n",
       "    <tr>\n",
       "      <th>2</th>\n",
       "      <td>{'key': 224, 'generation': 0}</td>\n",
       "      <td>2</td>\n",
       "    </tr>\n",
       "    <tr>\n",
       "      <th>3</th>\n",
       "      <td>{'key': 240, 'generation': 0}</td>\n",
       "      <td>3</td>\n",
       "    </tr>\n",
       "    <tr>\n",
       "      <th>4</th>\n",
       "      <td>{'key': 248, 'generation': 0}</td>\n",
       "      <td>4</td>\n",
       "    </tr>\n",
       "    <tr>\n",
       "      <th>5</th>\n",
       "      <td>{'key': 252, 'generation': 0}</td>\n",
       "      <td>5</td>\n",
       "    </tr>\n",
       "  </tbody>\n",
       "</table>\n",
       "</div>"
      ],
      "text/plain": [
       "                        sort_key  value\n",
       "0  {'key': 128, 'generation': 0}      0\n",
       "1  {'key': 192, 'generation': 0}      1\n",
       "2  {'key': 224, 'generation': 0}      2\n",
       "3  {'key': 240, 'generation': 0}      3\n",
       "4  {'key': 248, 'generation': 0}      4\n",
       "5  {'key': 252, 'generation': 0}      5"
      ]
     },
     "execution_count": 87,
     "metadata": {},
     "output_type": "execute_result"
    }
   ],
   "source": [
    "\n",
    "ol = OrderableList(0, 2**8, GAP=5)\n",
    "for j in range(6):\n",
    "    ol.append(j)\n",
    "\n",
    "df = pd.DataFrame(ol.sorted_items)\n",
    "\n",
    "df"
   ]
  },
  {
   "cell_type": "code",
   "execution_count": 1,
   "metadata": {},
   "outputs": [
    {
     "ename": "NameError",
     "evalue": "name 'OrderableList' is not defined",
     "output_type": "error",
     "traceback": [
      "\u001b[0;31m---------------------------------------------------------------------------\u001b[0m",
      "\u001b[0;31mNameError\u001b[0m                                 Traceback (most recent call last)",
      "Cell \u001b[0;32mIn[1], line 1\u001b[0m\n\u001b[0;32m----> 1\u001b[0m ol \u001b[38;5;241m=\u001b[39m \u001b[43mOrderableList\u001b[49m(\u001b[38;5;241m0\u001b[39m, \u001b[38;5;241m2\u001b[39m\u001b[38;5;241m*\u001b[39m\u001b[38;5;241m*\u001b[39m\u001b[38;5;241m8\u001b[39m, GAP\u001b[38;5;241m=\u001b[39m\u001b[38;5;241m5\u001b[39m)\n\u001b[1;32m      2\u001b[0m \u001b[38;5;28;01mfor\u001b[39;00m j \u001b[38;5;129;01min\u001b[39;00m \u001b[38;5;28mrange\u001b[39m(\u001b[38;5;241m22\u001b[39m):\n\u001b[1;32m      3\u001b[0m     ol\u001b[38;5;241m.\u001b[39mappend(j)\n",
      "\u001b[0;31mNameError\u001b[0m: name 'OrderableList' is not defined"
     ]
    }
   ],
   "source": [
    "ol = OrderableList(0, 2**8, GAP=5)\n",
    "for j in range(22):\n",
    "    ol.append(j)\n",
    "\n",
    "ol.sanity_check_insertion_order()\n",
    "\n",
    "df = pd.DataFrame(ol.sorted_items)\n",
    "\n",
    "df"
   ]
  },
  {
   "cell_type": "code",
   "execution_count": 4,
   "metadata": {},
   "outputs": [],
   "source": [
    "from insync.listregistry import ListRegistry, ListItem, ListItemProject, ListItemProjectType,NullListItemProject"
   ]
  },
  {
   "cell_type": "code",
   "execution_count": 5,
   "metadata": {},
   "outputs": [
    {
     "data": {
      "text/plain": [
       "False"
      ]
     },
     "execution_count": 5,
     "metadata": {},
     "output_type": "execute_result"
    }
   ],
   "source": [
    "nil = NullListItemProject()\n",
    "nil2 = ListItemProject('', ListItemProjectType.null)\n",
    "\n",
    "nil == nil2"
   ]
  },
  {
   "cell_type": "code",
   "execution_count": 6,
   "metadata": {},
   "outputs": [
    {
     "data": {
      "text/plain": [
       "False"
      ]
     },
     "execution_count": 6,
     "metadata": {},
     "output_type": "execute_result"
    }
   ],
   "source": [
    "nil2 == nil"
   ]
  },
  {
   "cell_type": "code",
   "execution_count": null,
   "metadata": {},
   "outputs": [],
   "source": []
  },
  {
   "cell_type": "code",
   "execution_count": null,
   "metadata": {},
   "outputs": [],
   "source": []
  },
  {
   "cell_type": "code",
   "execution_count": null,
   "metadata": {},
   "outputs": [],
   "source": []
  }
 ],
 "metadata": {
  "kernelspec": {
   "display_name": ".venv",
   "language": "python",
   "name": "python3"
  },
  "language_info": {
   "codemirror_mode": {
    "name": "ipython",
    "version": 3
   },
   "file_extension": ".py",
   "mimetype": "text/x-python",
   "name": "python",
   "nbconvert_exporter": "python",
   "pygments_lexer": "ipython3",
   "version": "3.11.8"
  }
 },
 "nbformat": 4,
 "nbformat_minor": 2
}
