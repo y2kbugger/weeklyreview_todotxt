{
 "cells": [
  {
   "cell_type": "markdown",
   "metadata": {},
   "source": []
  },
  {
   "cell_type": "code",
   "execution_count": 1,
   "metadata": {},
   "outputs": [],
   "source": [
    "%reload_ext autoreload\n",
    "%autoreload 2"
   ]
  },
  {
   "cell_type": "code",
   "execution_count": 2,
   "metadata": {},
   "outputs": [],
   "source": [
    "from pathlib import Path\n",
    "\n",
    "from insync.db import ListDB\n",
    "from insync.list import CompletionCommand, ListItem, ListItemContext, ListItemContextType, ListRegistry\n"
   ]
  },
  {
   "cell_type": "code",
   "execution_count": 3,
   "metadata": {},
   "outputs": [
    {
     "name": "stdout",
     "output_type": "stream",
     "text": [
      "\n",
      "List:\n",
      "2024-03-01 eggs @^grocery\n",
      "2024-03-01 milk @^grocery\n",
      "2024-03-01 bread @^grocery\n",
      "2024-03-01 butter @^grocery\n",
      "\n",
      "Cmd before doing:\n",
      "\t CompletionCommand(uuid=UUID('018dfd1a-eeb3-77bc-ad45-bebdc49d7585'), completed_new=True, completed_orig=None)\n",
      "Cmd after doing:\n",
      "\t CompletionCommand(uuid=UUID('018dfd1a-eeb3-77bc-ad45-bebdc49d7585'), completed_new=True, completed_orig=False)\n",
      "\n",
      "List:\n",
      "2024-03-01 eggs @^grocery\n",
      "x 2024-03-01 milk @^grocery\n",
      "2024-03-01 bread @^grocery\n",
      "2024-03-01 butter @^grocery\n",
      "\n",
      "\n",
      "List:\n",
      "2024-03-01 eggs @^grocery\n",
      "2024-03-01 milk @^grocery\n",
      "2024-03-01 bread @^grocery\n",
      "2024-03-01 butter @^grocery\n",
      "\n"
     ]
    }
   ],
   "source": [
    "descs = ['eggs', 'milk', 'bread', 'butter']\n",
    "\n",
    "reg = ListRegistry()\n",
    "\n",
    "for desc in descs:\n",
    "    i = ListItem(desc, context=ListItemContext('grocery', ListItemContextType.CHECKLIST))\n",
    "    reg.add(i)\n",
    "\n",
    "milk_item = list(reg.items)[1]\n",
    "cmd = CompletionCommand(milk_item.uuid, True)\n",
    "\n",
    "print(\"\\nList:\\n\",reg, sep='')\n",
    "print(\"Cmd before doing:\\n\\t\", cmd)\n",
    "reg.do(cmd)\n",
    "print(\"Cmd after doing:\\n\\t\", cmd)\n",
    "print(\"\\nList:\\n\",reg, sep='')\n",
    "\n",
    "reg.undo()\n",
    "print(\"\\nList:\\n\",reg, sep='')"
   ]
  },
  {
   "cell_type": "markdown",
   "metadata": {},
   "source": [
    "# Save and restore from the db"
   ]
  },
  {
   "cell_type": "code",
   "execution_count": null,
   "metadata": {},
   "outputs": [],
   "source": [
    "DB_FILE = Path(\"scratch.db\")\n",
    "DB_FILE.unlink(missing_ok=True)\n",
    "db = ListDB(DB_FILE)\n",
    "db.ensure_tables_created()\n",
    "db.patch(reg)"
   ]
  },
  {
   "cell_type": "code",
   "execution_count": null,
   "metadata": {},
   "outputs": [],
   "source": [
    "reg2 = db.load()\n",
    "\n",
    "reg.add(ListItem(\"cheese\", context=ListItemContext('grocery', ListItemContextType.CHECKLIST)))\n",
    "print(\"\\nOriginal:\\n\",reg, sep='')\n",
    "print(\"\\nRestored:\\n\",reg2, sep='')"
   ]
  },
  {
   "cell_type": "code",
   "execution_count": null,
   "metadata": {},
   "outputs": [],
   "source": []
  },
  {
   "cell_type": "code",
   "execution_count": 41,
   "metadata": {},
   "outputs": [],
   "source": [
    "import dataclasses\n",
    "from typing import TypeAlias\n",
    "\n",
    "SortKey : TypeAlias = int\n",
    "\n",
    "@dataclasses.dataclass\n",
    "class OrderableListItem:\n",
    "    sort_key: SortKey\n",
    "    value: int\n",
    "\n",
    "class OrderableList:\n",
    "    \"\"\"test example of a list that can be ordered\n",
    "    goint to benchmark the how fast the key lenth grows with the number of\n",
    "    insertions and reorders\n",
    "    \"\"\"\n",
    "    def __init__(self, MIN: SortKey, MAX: SortKey):\n",
    "        self.items: list[OrderableListItem] = []\n",
    "\n",
    "        self.MIN: SortKey = MIN\n",
    "        self.MAX: SortKey = MAX\n",
    "\n",
    "    def get_key(self, after: SortKey, before: SortKey) -> SortKey:\n",
    "        \"\"\"Create sort key for a new item that should be inserted between\"\"\"\n",
    "        return after + (before - after) // 2\n",
    "\n",
    "    def append(self, v: int) -> None:\n",
    "        \"\"\"Append an item to the end of the list\"\"\"\n",
    "        after = self.MIN if len(self.items) == 0 else self.items[-1].sort_key\n",
    "        key = self.get_key(after, self.MAX)\n",
    "        oli = OrderableListItem(key, v)\n",
    "        print(oli)\n",
    "        assert key not in [i.sort_key for i in self.items], f\"No space for {oli} in {self.items}\"\n",
    "        self.items.append(oli)\n",
    "\n",
    "    # def insert(self, v: int, after: OrderableListItem, before: OrderableListItem) -> None:\n",
    "    #     \"\"\"Insert an item between two existing items\"\"\"\n",
    "    #     key = self.get_key(after.sort_key, before.sort_key)\n",
    "    #     self.items.append(OrderableListItem(key, v))\n",
    "\n",
    "    @property\n",
    "    def sorted_items(self) -> list[OrderableListItem]:\n",
    "        return sorted(self.items, key=lambda x: x.sort_key)\n",
    "\n",
    "    def sanity_check_insertion_order(self) -> None:\n",
    "        \"\"\"check that the items are in order after intial insertions\"\"\"\n",
    "        from itertools import pairwise\n",
    "        for a, b in pairwise(self.sorted_items):\n",
    "            if a.value > b.value:\n",
    "                raise ValueError(f\"Items are out of order: {a} > {b}\")\n",
    "\n",
    "    def sanity_check_key_uniqueness(self) -> None:\n",
    "        \"\"\"check that the keys are unique\"\"\"\n",
    "        keys = [i.sort_key for i in self.sorted_items]\n",
    "        if len(keys) != len(set(keys)):\n",
    "            raise ValueError(\"Keys are not unique\")\n",
    "\n"
   ]
  },
  {
   "cell_type": "code",
   "execution_count": 43,
   "metadata": {},
   "outputs": [
    {
     "name": "stdout",
     "output_type": "stream",
     "text": [
      "OrderableListItem(sort_key=128, value=0)\n",
      "OrderableListItem(sort_key=192, value=1)\n",
      "OrderableListItem(sort_key=224, value=2)\n",
      "OrderableListItem(sort_key=240, value=3)\n",
      "OrderableListItem(sort_key=248, value=4)\n",
      "OrderableListItem(sort_key=252, value=5)\n"
     ]
    },
    {
     "data": {
      "text/html": [
       "<div>\n",
       "<style scoped>\n",
       "    .dataframe tbody tr th:only-of-type {\n",
       "        vertical-align: middle;\n",
       "    }\n",
       "\n",
       "    .dataframe tbody tr th {\n",
       "        vertical-align: top;\n",
       "    }\n",
       "\n",
       "    .dataframe thead th {\n",
       "        text-align: right;\n",
       "    }\n",
       "</style>\n",
       "<table border=\"1\" class=\"dataframe\">\n",
       "  <thead>\n",
       "    <tr style=\"text-align: right;\">\n",
       "      <th></th>\n",
       "      <th>sort_key</th>\n",
       "      <th>value</th>\n",
       "    </tr>\n",
       "  </thead>\n",
       "  <tbody>\n",
       "    <tr>\n",
       "      <th>0</th>\n",
       "      <td>128</td>\n",
       "      <td>0</td>\n",
       "    </tr>\n",
       "    <tr>\n",
       "      <th>1</th>\n",
       "      <td>192</td>\n",
       "      <td>1</td>\n",
       "    </tr>\n",
       "    <tr>\n",
       "      <th>2</th>\n",
       "      <td>224</td>\n",
       "      <td>2</td>\n",
       "    </tr>\n",
       "    <tr>\n",
       "      <th>3</th>\n",
       "      <td>240</td>\n",
       "      <td>3</td>\n",
       "    </tr>\n",
       "    <tr>\n",
       "      <th>4</th>\n",
       "      <td>248</td>\n",
       "      <td>4</td>\n",
       "    </tr>\n",
       "    <tr>\n",
       "      <th>5</th>\n",
       "      <td>252</td>\n",
       "      <td>5</td>\n",
       "    </tr>\n",
       "  </tbody>\n",
       "</table>\n",
       "</div>"
      ],
      "text/plain": [
       "   sort_key  value\n",
       "0       128      0\n",
       "1       192      1\n",
       "2       224      2\n",
       "3       240      3\n",
       "4       248      4\n",
       "5       252      5"
      ]
     },
     "execution_count": 43,
     "metadata": {},
     "output_type": "execute_result"
    }
   ],
   "source": [
    "ol = OrderableList(0, 2**8)\n",
    "for j in range(6):\n",
    "    ol.append(j)\n",
    "\n",
    "ol.sanity_check_insertion_order()\n",
    "\n",
    "import pandas as pd\n",
    "\n",
    "df = pd.DataFrame(ol.sorted_items)\n",
    "\n",
    "df"
   ]
  },
  {
   "cell_type": "code",
   "execution_count": 44,
   "metadata": {},
   "outputs": [
    {
     "name": "stdout",
     "output_type": "stream",
     "text": [
      "OrderableListItem(sort_key=128, value=0)\n",
      "OrderableListItem(sort_key=192, value=1)\n",
      "OrderableListItem(sort_key=224, value=2)\n",
      "OrderableListItem(sort_key=240, value=3)\n",
      "OrderableListItem(sort_key=248, value=4)\n",
      "OrderableListItem(sort_key=252, value=5)\n",
      "OrderableListItem(sort_key=254, value=6)\n",
      "OrderableListItem(sort_key=255, value=7)\n",
      "OrderableListItem(sort_key=255, value=8)\n"
     ]
    },
    {
     "ename": "AssertionError",
     "evalue": "No space for OrderableListItem(sort_key=255, value=8) in [OrderableListItem(sort_key=128, value=0), OrderableListItem(sort_key=192, value=1), OrderableListItem(sort_key=224, value=2), OrderableListItem(sort_key=240, value=3), OrderableListItem(sort_key=248, value=4), OrderableListItem(sort_key=252, value=5), OrderableListItem(sort_key=254, value=6), OrderableListItem(sort_key=255, value=7)]",
     "output_type": "error",
     "traceback": [
      "\u001b[0;31m---------------------------------------------------------------------------\u001b[0m",
      "\u001b[0;31mAssertionError\u001b[0m                            Traceback (most recent call last)",
      "Cell \u001b[0;32mIn[44], line 3\u001b[0m\n\u001b[1;32m      1\u001b[0m ol \u001b[38;5;241m=\u001b[39m OrderableList(\u001b[38;5;241m0\u001b[39m, \u001b[38;5;241m2\u001b[39m\u001b[38;5;241m*\u001b[39m\u001b[38;5;241m*\u001b[39m\u001b[38;5;241m8\u001b[39m)\n\u001b[1;32m      2\u001b[0m \u001b[38;5;28;01mfor\u001b[39;00m j \u001b[38;5;129;01min\u001b[39;00m \u001b[38;5;28mrange\u001b[39m(\u001b[38;5;241m10\u001b[39m):\n\u001b[0;32m----> 3\u001b[0m     \u001b[43mol\u001b[49m\u001b[38;5;241;43m.\u001b[39;49m\u001b[43mappend\u001b[49m\u001b[43m(\u001b[49m\u001b[43mj\u001b[49m\u001b[43m)\u001b[49m\n\u001b[1;32m      5\u001b[0m ol\u001b[38;5;241m.\u001b[39msanity_check_insertion_order()\n\u001b[1;32m      7\u001b[0m \u001b[38;5;28;01mimport\u001b[39;00m \u001b[38;5;21;01mpandas\u001b[39;00m \u001b[38;5;28;01mas\u001b[39;00m \u001b[38;5;21;01mpd\u001b[39;00m\n",
      "Cell \u001b[0;32mIn[41], line 32\u001b[0m, in \u001b[0;36mOrderableList.append\u001b[0;34m(self, v)\u001b[0m\n\u001b[1;32m     30\u001b[0m oli \u001b[38;5;241m=\u001b[39m OrderableListItem(key, v)\n\u001b[1;32m     31\u001b[0m \u001b[38;5;28mprint\u001b[39m(oli)\n\u001b[0;32m---> 32\u001b[0m \u001b[38;5;28;01massert\u001b[39;00m key \u001b[38;5;129;01mnot\u001b[39;00m \u001b[38;5;129;01min\u001b[39;00m [i\u001b[38;5;241m.\u001b[39msort_key \u001b[38;5;28;01mfor\u001b[39;00m i \u001b[38;5;129;01min\u001b[39;00m \u001b[38;5;28mself\u001b[39m\u001b[38;5;241m.\u001b[39mitems], \u001b[38;5;124mf\u001b[39m\u001b[38;5;124m\"\u001b[39m\u001b[38;5;124mNo space for \u001b[39m\u001b[38;5;132;01m{\u001b[39;00moli\u001b[38;5;132;01m}\u001b[39;00m\u001b[38;5;124m in \u001b[39m\u001b[38;5;132;01m{\u001b[39;00m\u001b[38;5;28mself\u001b[39m\u001b[38;5;241m.\u001b[39mitems\u001b[38;5;132;01m}\u001b[39;00m\u001b[38;5;124m\"\u001b[39m\n\u001b[1;32m     33\u001b[0m \u001b[38;5;28mself\u001b[39m\u001b[38;5;241m.\u001b[39mitems\u001b[38;5;241m.\u001b[39mappend(oli)\n",
      "\u001b[0;31mAssertionError\u001b[0m: No space for OrderableListItem(sort_key=255, value=8) in [OrderableListItem(sort_key=128, value=0), OrderableListItem(sort_key=192, value=1), OrderableListItem(sort_key=224, value=2), OrderableListItem(sort_key=240, value=3), OrderableListItem(sort_key=248, value=4), OrderableListItem(sort_key=252, value=5), OrderableListItem(sort_key=254, value=6), OrderableListItem(sort_key=255, value=7)]"
     ]
    }
   ],
   "source": [
    "ol = OrderableList(0, 2**8)\n",
    "for j in range(10):\n",
    "    ol.append(j)\n",
    "\n",
    "ol.sanity_check_insertion_order()\n",
    "\n",
    "import pandas as pd\n",
    "\n",
    "df = pd.DataFrame(ol.sorted_items)\n",
    "\n",
    "df"
   ]
  }
 ],
 "metadata": {
  "kernelspec": {
   "display_name": ".venv",
   "language": "python",
   "name": "python3"
  },
  "language_info": {
   "codemirror_mode": {
    "name": "ipython",
    "version": 3
   },
   "file_extension": ".py",
   "mimetype": "text/x-python",
   "name": "python",
   "nbconvert_exporter": "python",
   "pygments_lexer": "ipython3",
   "version": "3.11.7"
  }
 },
 "nbformat": 4,
 "nbformat_minor": 2
}
